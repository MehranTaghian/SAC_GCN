{
 "cells": [
  {
   "cell_type": "code",
   "execution_count": null,
   "metadata": {
    "pycharm": {
     "is_executing": true
    }
   },
   "outputs": [],
   "source": [
    "import os\n",
    "import gym\n",
    "import numpy as np\n",
    "import torch\n",
    "from tqdm import tqdm\n",
    "from CustomGymEnvs import MujocoGraphNormalWrapper, FetchReachGraphWrapper\n",
    "from pathlib import Path\n",
    "from Graph_SAC.sac import SAC\n",
    "from utils import state_2_graphbatch, load_object\n",
    "# matplotlib.use('TkAgg')\n",
    "import matplotlib.pyplot as plt\n",
    "import seaborn as sns\n"
   ]
  },
  {
   "cell_type": "code",
   "execution_count": null,
   "metadata": {},
   "outputs": [],
   "source": [
    "# env_name = 'HalfCheetah-v2'\n",
    "env_name = 'Walker2d-v2'\n",
    "# env_name = 'Hopper-v2'\n",
    "# env_name = 'FetchReachDense-v1'"
   ]
  },
  {
   "cell_type": "code",
   "execution_count": null,
   "metadata": {},
   "outputs": [],
   "source": [
    "exp_path = os.path.join(Path(os.getcwd()), 'Data', env_name, 'graph')\n",
    "obj_path = os.path.join(exp_path, 'edge_relevance.pkl')\n",
    "edge_relevance = load_object(obj_path)\n",
    "if env_name == 'FetchReachDense-v1':\n",
    "    edge_relevance = np.delete(edge_relevance, 3, axis=1)"
   ]
  },
  {
   "cell_type": "code",
   "execution_count": null,
   "metadata": {},
   "outputs": [],
   "source": [
    "# Environment\n",
    "if 'FetchReach' in env_name:\n",
    "    env = FetchReachGraphWrapper(gym.make(env_name))\n",
    "else:\n",
    "    env = MujocoGraphNormalWrapper(env_name)\n",
    "\n",
    "edge_list = env.robot_graph.edge_list\n",
    "node_list = env.robot_graph.node_list"
   ]
  },
  {
   "cell_type": "code",
   "execution_count": null,
   "metadata": {},
   "outputs": [],
   "source": [
    "def process_joint_name(joint_name):\n",
    "    separated = joint_name.split(':')[1].split('_') if 'robot0' in joint_name else joint_name.split('_')\n",
    "    final_key = ''\n",
    "    for sk in separated:\n",
    "        if len(sk) == 1:\n",
    "            final_key += sk + '-'\n",
    "        else:\n",
    "            final_key += sk + ' '\n",
    "    return final_key\n",
    "\n",
    "joint_names = []\n",
    "joint_indices = []\n",
    "for edge_id, joint_list in enumerate(edge_list.values()):\n",
    "    if len(joint_list) > 0:\n",
    "        joint_names.append(\n",
    "            process_joint_name(joint_list[0].attrib['name'])\n",
    "            if len(joint_list) == 1\n",
    "            else '\\n'.join([process_joint_name(j.attrib['name']) for j in joint_list])\n",
    "        )\n",
    "        joint_indices.append(edge_id)\n",
    "\n",
    "action_indices = [a for a in range(env.action_space.shape[0])]"
   ]
  },
  {
   "cell_type": "code",
   "execution_count": null,
   "metadata": {},
   "outputs": [],
   "source": [
    "def plot_joint_action_heatmap(data, importance, width, height, title):\n",
    "    fig, (ax1, ax2) = plt.subplots(1, 2, figsize=(width, height), gridspec_kw={'width_ratios': (30, 1)})\n",
    "    sns.heatmap(data, ax=ax1, cbar=False, cmap=\"YlGn\", linewidth=1, vmin=np.min(data), vmax=np.max(data))\n",
    "    ax1.set_xticks(np.arange(len(joint_names)) + 0.5, labels=[j for j in joint_names], rotation=45)\n",
    "    ax1.set_title(title, fontsize=20, pad=40)\n",
    "    ax1.set_ylabel(\"Action index\")\n",
    "    ax1.set_xlabel(f\"Joints' names\")\n",
    "\n",
    "    ax3 = ax1.twiny()\n",
    "    ax3.set_xlim([0, ax1.get_xlim()[1]])\n",
    "    ax3.set_xticks(ax1.get_xticks())\n",
    "    ax3.set_xticklabels(np.round(importance, 2))\n",
    "\n",
    "    plt.colorbar(plt.cm.ScalarMappable(cmap=\"YlGn\", norm=plt.Normalize(vmin=np.min(data), vmax=np.max(data))), cax=ax2)\n",
    "    ax2.yaxis.set_ticks_position('left')\n",
    "    ax2.set_ylabel('Avg relevance score across seeds')\n",
    "\n",
    "    for i in range(data.shape[0]):\n",
    "        for j in range(data.shape[1]):\n",
    "            ax1.text(j + 0.5, i + 0.5, round(data[i, j], 3), color=\"black\")\n",
    "\n",
    "    plt.show()\n",
    "    fig.savefig(os.path.join(exp_path, 'LRP_result.jpg'), dpi=300)"
   ]
  },
  {
   "cell_type": "code",
   "execution_count": null,
   "metadata": {},
   "outputs": [],
   "source": [
    "# avg_edge_rel = np.abs(edge_relevance).mean(axis=4).mean(axis=3).mean(axis=2)\n",
    "# avg_edge_rel = np.abs(edge_relevance).sum(axis=4).sum(axis=3).sum(axis=2)\n",
    "avg_edge_rel = edge_relevance.mean(axis=4).mean(axis=3).mean(axis=2)\n",
    "\n",
    "avg_edge_rel /= np.max(np.abs(avg_edge_rel), axis=0)"
   ]
  },
  {
   "cell_type": "code",
   "execution_count": null,
   "metadata": {},
   "outputs": [],
   "source": [
    "figure_width = 15\n",
    "figure_height = 12\n",
    "\n",
    "# --------------- First method for calculating importance (without considering action importance)-----------\n",
    "# importance = np.abs(avg_edge_rel.T.mean(axis=0))\n",
    "\n",
    "#---------------- Second method for calculating importance (w.r.t. action importance) ------------\n",
    "importance = np.abs(np.abs(avg_edge_rel.mean(axis=0)).dot(avg_edge_rel.T))\n",
    "importance /= np.max(importance)\n",
    "\n",
    "\n",
    "plot_joint_action_heatmap(avg_edge_rel.T, importance,\n",
    "                          figure_width,\n",
    "                          figure_height,\n",
    "                          \"Avg actions' relevance scores given to joints\")"
   ]
  },
  {
   "cell_type": "code",
   "execution_count": null,
   "metadata": {},
   "outputs": [],
   "source": [
    "tmp_rel = edge_relevance / (np.max(np.abs(edge_relevance), axis=4)[..., np.newaxis] * np.ones([1, 50]))"
   ]
  },
  {
   "cell_type": "code",
   "execution_count": null,
   "metadata": {},
   "outputs": [],
   "source": [
    "avg_edge_rel = edge_relevance.mean(axis=4).mean(axis=3).mean(axis=2)\n",
    "avg_edge_rel /= np.max(np.abs(avg_edge_rel), axis=0)"
   ]
  },
  {
   "cell_type": "code",
   "execution_count": null,
   "metadata": {},
   "outputs": [],
   "source": []
  }
 ],
 "metadata": {
  "kernelspec": {
   "display_name": "Python 3 (ipykernel)",
   "language": "python",
   "name": "python3"
  },
  "language_info": {
   "codemirror_mode": {
    "name": "ipython",
    "version": 3
   },
   "file_extension": ".py",
   "mimetype": "text/x-python",
   "name": "python",
   "nbconvert_exporter": "python",
   "pygments_lexer": "ipython3",
   "version": "3.8.10"
  }
 },
 "nbformat": 4,
 "nbformat_minor": 1
}
