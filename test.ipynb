{
 "cells": [
  {
   "cell_type": "code",
   "execution_count": 2,
   "metadata": {},
   "outputs": [],
   "source": [
    "import numpy as np\n",
    "from utils import load_object"
   ]
  },
  {
   "cell_type": "code",
   "execution_count": 3,
   "metadata": {},
   "outputs": [
    {
     "ename": "FileNotFoundError",
     "evalue": "[Errno 2] No such file or directory: 'Data/Walker2d-v2/standard/seed0/eval.pkl'",
     "output_type": "error",
     "traceback": [
      "\u001b[0;31m---------------------------------------------------------------------------\u001b[0m",
      "\u001b[0;31mFileNotFoundError\u001b[0m                         Traceback (most recent call last)",
      "\u001b[0;32m/tmp/ipykernel_288275/1671890759.py\u001b[0m in \u001b[0;36m<module>\u001b[0;34m\u001b[0m\n\u001b[0;32m----> 1\u001b[0;31m \u001b[0mtrain\u001b[0m \u001b[0;34m=\u001b[0m \u001b[0mload_object\u001b[0m\u001b[0;34m(\u001b[0m\u001b[0;34m'Data/Walker2d-v2/standard/seed0/eval.pkl'\u001b[0m\u001b[0;34m)\u001b[0m\u001b[0;34m\u001b[0m\u001b[0;34m\u001b[0m\u001b[0m\n\u001b[0m",
      "\u001b[0;32m~/Documents/SAC_GCN/utils.py\u001b[0m in \u001b[0;36mload_object\u001b[0;34m(path)\u001b[0m\n\u001b[1;32m     45\u001b[0m \u001b[0;34m\u001b[0m\u001b[0m\n\u001b[1;32m     46\u001b[0m \u001b[0;32mdef\u001b[0m \u001b[0mload_object\u001b[0m\u001b[0;34m(\u001b[0m\u001b[0mpath\u001b[0m\u001b[0;34m)\u001b[0m\u001b[0;34m:\u001b[0m\u001b[0;34m\u001b[0m\u001b[0;34m\u001b[0m\u001b[0m\n\u001b[0;32m---> 47\u001b[0;31m     \u001b[0mfile_to_read\u001b[0m \u001b[0;34m=\u001b[0m \u001b[0mopen\u001b[0m\u001b[0;34m(\u001b[0m\u001b[0mpath\u001b[0m\u001b[0;34m,\u001b[0m \u001b[0;34m\"rb\"\u001b[0m\u001b[0;34m)\u001b[0m\u001b[0;34m\u001b[0m\u001b[0;34m\u001b[0m\u001b[0m\n\u001b[0m\u001b[1;32m     48\u001b[0m     \u001b[0mloaded_object\u001b[0m \u001b[0;34m=\u001b[0m \u001b[0mpickle\u001b[0m\u001b[0;34m.\u001b[0m\u001b[0mload\u001b[0m\u001b[0;34m(\u001b[0m\u001b[0mfile_to_read\u001b[0m\u001b[0;34m)\u001b[0m\u001b[0;34m\u001b[0m\u001b[0;34m\u001b[0m\u001b[0m\n\u001b[1;32m     49\u001b[0m     \u001b[0mfile_to_read\u001b[0m\u001b[0;34m.\u001b[0m\u001b[0mclose\u001b[0m\u001b[0;34m(\u001b[0m\u001b[0;34m)\u001b[0m\u001b[0;34m\u001b[0m\u001b[0;34m\u001b[0m\u001b[0m\n",
      "\u001b[0;31mFileNotFoundError\u001b[0m: [Errno 2] No such file or directory: 'Data/Walker2d-v2/standard/seed0/eval.pkl'"
     ]
    }
   ],
   "source": [
    "train = load_object('Data/Walker2d-v2/standard/seed0/eval.pkl')"
   ]
  },
  {
   "cell_type": "code",
   "execution_count": 52,
   "metadata": {},
   "outputs": [
    {
     "data": {
      "text/plain": [
       "array([[ 4.0000000e+00,  1.1400000e+02,  0.0000000e+00, -4.4939013e+00],\n",
       "       [ 9.0000000e+00,  2.7800000e+02,  2.1000000e+01,  3.0493269e+00],\n",
       "       [ 1.4000000e+01,  4.1300000e+02,  1.5600000e+02,  2.6260724e+02],\n",
       "       [ 1.9000000e+01,  5.4300000e+02,  2.8600000e+02,  2.6676154e+02],\n",
       "       [ 2.4000000e+01,  6.3200000e+02,  3.7500000e+02,  2.5351755e+02],\n",
       "       [ 2.9000000e+01,  7.0700000e+02,  4.5000000e+02,  2.5351877e+02],\n",
       "       [ 3.4000000e+01,  7.8900000e+02,  5.3200000e+02,  2.8674121e+02],\n",
       "       [ 3.9000000e+01,  9.1700000e+02,  6.6000000e+02,  2.7816992e+02],\n",
       "       [ 4.4000000e+01,  1.2650000e+03,  1.0080000e+03,  2.5804855e+02],\n",
       "       [ 4.9000000e+01,  1.9980000e+03,  1.7410000e+03,  2.9380148e+02],\n",
       "       [ 5.4000000e+01,  2.8850000e+03,  2.6280000e+03,  2.5648511e+02],\n",
       "       [ 5.9000000e+01,  3.7900000e+03,  3.5330000e+03,  1.2808992e+02]],\n",
       "      dtype=float32)"
      ]
     },
     "execution_count": 52,
     "metadata": {},
     "output_type": "execute_result"
    }
   ],
   "source": [
    "train"
   ]
  },
  {
   "cell_type": "code",
   "execution_count": 54,
   "metadata": {},
   "outputs": [
    {
     "data": {
      "text/plain": [
       "array([[ 4.0000000e+00,  1.1400000e+02,  0.0000000e+00, -4.4939013e+00],\n",
       "       [ 9.0000000e+00,  2.7800000e+02,  2.1000000e+01,  3.0493269e+00],\n",
       "       [ 1.4000000e+01,  4.1300000e+02,  1.5600000e+02,  2.6260724e+02],\n",
       "       [ 1.9000000e+01,  5.4300000e+02,  2.8600000e+02,  2.6676154e+02],\n",
       "       [ 2.4000000e+01,  6.3200000e+02,  3.7500000e+02,  2.5351755e+02],\n",
       "       [ 2.9000000e+01,  7.0700000e+02,  4.5000000e+02,  2.5351877e+02],\n",
       "       [ 3.4000000e+01,  7.8900000e+02,  5.3200000e+02,  2.8674121e+02],\n",
       "       [ 3.9000000e+01,  9.1700000e+02,  6.6000000e+02,  2.7816992e+02],\n",
       "       [ 4.4000000e+01,  1.2650000e+03,  1.0080000e+03,  2.5804855e+02],\n",
       "       [ 4.9000000e+01,  1.9980000e+03,  1.7410000e+03,  2.9380148e+02],\n",
       "       [ 5.4000000e+01,  2.8850000e+03,  2.6280000e+03,  2.5648511e+02],\n",
       "       [ 5.9000000e+01,  3.7900000e+03,  3.5330000e+03,  1.2808992e+02],\n",
       "       [ 6.4000000e+01,  4.6690000e+03,  4.4120000e+03,  2.9065054e+02]],\n",
       "      dtype=float32)"
      ]
     },
     "execution_count": 54,
     "metadata": {},
     "output_type": "execute_result"
    }
   ],
   "source": [
    "train"
   ]
  },
  {
   "cell_type": "code",
   "execution_count": null,
   "metadata": {},
   "outputs": [],
   "source": []
  }
 ],
 "metadata": {
  "kernelspec": {
   "display_name": "Python 3 (ipykernel)",
   "language": "python",
   "name": "python3"
  },
  "language_info": {
   "codemirror_mode": {
    "name": "ipython",
    "version": 3
   },
   "file_extension": ".py",
   "mimetype": "text/x-python",
   "name": "python",
   "nbconvert_exporter": "python",
   "pygments_lexer": "ipython3",
   "version": "3.8.10"
  }
 },
 "nbformat": 4,
 "nbformat_minor": 1
}
