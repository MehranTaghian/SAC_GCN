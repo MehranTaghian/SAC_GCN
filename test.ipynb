{
 "cells": [
  {
   "cell_type": "code",
   "execution_count": 1,
   "metadata": {},
   "outputs": [],
   "source": [
    "import gym\n",
    "import CustomGymEnvs\n",
    "import torchgraphs as tg\n",
    "import torch\n",
    "import torch.nn as nn\n",
    "\n",
    "from collections import OrderedDict"
   ]
  },
  {
   "cell_type": "code",
   "execution_count": 2,
   "metadata": {},
   "outputs": [],
   "source": [
    "env = gym.make(\"FetchReachEnv-v0\")"
   ]
  },
  {
   "cell_type": "code",
   "execution_count": 3,
   "metadata": {},
   "outputs": [],
   "source": [
    "num_nodes = env.observation_space['observation_nodes'].shape[0]\n",
    "num_edges = env.observation_space['observation_edges'].shape[0]"
   ]
  },
  {
   "cell_type": "code",
   "execution_count": 85,
   "metadata": {},
   "outputs": [],
   "source": [
    "# g1 = tg.GraphBatch(\n",
    "#     node_features=torch.FloatTensor(env.robot_graph.node_features),\n",
    "#     edge_features=torch.FloatTensor(env.robot_graph.edge_features),\n",
    "#     senders=torch.tensor(env.robot_graph.edges_from),\n",
    "#     receivers=torch.tensor(env.robot_graph.edges_to),\n",
    "#     global_features=torch.randn([1, 10]),\n",
    "#     num_nodes_by_graph=torch.tensor([num_nodes]),\n",
    "#     num_edges_by_graph=torch.tensor([num_edges])\n",
    "# )\n",
    "\n",
    "g1 = tg.Graph(\n",
    "    node_features=torch.FloatTensor(env.robot_graph.node_features),\n",
    "    edge_features=torch.FloatTensor(env.robot_graph.edge_features),\n",
    "    senders=torch.tensor(env.robot_graph.edges_from),\n",
    "    receivers=torch.tensor(env.robot_graph.edges_to),\n",
    "    global_features=torch.randn([1, 10])\n",
    ")"
   ]
  },
  {
   "cell_type": "code",
   "execution_count": 86,
   "metadata": {},
   "outputs": [],
   "source": [
    "# g2 = tg.GraphBatch(\n",
    "#     node_features=torch.FloatTensor(env.robot_graph.node_features),\n",
    "#     edge_features=torch.FloatTensor(env.robot_graph.edge_features),\n",
    "#     senders=torch.tensor(env.robot_graph.edges_from),\n",
    "#     receivers=torch.tensor(env.robot_graph.edges_to),\n",
    "#     global_features=torch.randn([1, 10]),\n",
    "#     num_nodes_by_graph=torch.tensor([num_nodes]),\n",
    "#     num_edges_by_graph=torch.tensor([num_edges])\n",
    "# )\n",
    "\n",
    "g2 = tg.Graph(\n",
    "    node_features=torch.FloatTensor(env.robot_graph.node_features),\n",
    "    edge_features=torch.FloatTensor(env.robot_graph.edge_features),\n",
    "    senders=torch.tensor(env.robot_graph.edges_from),\n",
    "    receivers=torch.tensor(env.robot_graph.edges_to),\n",
    "    global_features=torch.randn([1, 10]),\n",
    ")"
   ]
  },
  {
   "cell_type": "code",
   "execution_count": 6,
   "metadata": {},
   "outputs": [],
   "source": [
    "dataloader = torch.utils.data.DataLoader([g1, g2], collate_fn=tg.GraphBatch.collate)"
   ]
  },
  {
   "cell_type": "code",
   "execution_count": 94,
   "metadata": {},
   "outputs": [],
   "source": [
    "a = tg.GraphBatch.collate([g1, g2])"
   ]
  },
  {
   "cell_type": "code",
   "execution_count": 99,
   "metadata": {},
   "outputs": [],
   "source": [
    "a.global_features = torch.randn([2, 10])"
   ]
  },
  {
   "cell_type": "code",
   "execution_count": 101,
   "metadata": {},
   "outputs": [
    {
     "data": {
      "text/plain": [
       "torch.Size([2, 10])"
      ]
     },
     "execution_count": 101,
     "metadata": {},
     "output_type": "execute_result"
    }
   ],
   "source": [
    "a.global_features.shape"
   ]
  },
  {
   "cell_type": "code",
   "execution_count": 79,
   "metadata": {},
   "outputs": [],
   "source": [
    "class QNetwork(nn.Module):\n",
    "    def __init__(self, num_node_features, num_edge_features, num_actions):\n",
    "        # For the action value function, we consider the action as the graph's global features\n",
    "        super(QNetwork, self).__init__()\n",
    "        \n",
    "        self.edge1 = tg.EdgeLinear(256,\n",
    "                                   edge_features=num_edge_features,\n",
    "                                   sender_features=num_node_features,\n",
    "                                   receiver_features=num_node_features,\n",
    "                                   global_features=num_actions)\n",
    "        self.edge_relu1 = tg.EdgeReLU()\n",
    "\n",
    "        self.node1 = tg.NodeLinear(256,\n",
    "                                   node_features=num_node_features,\n",
    "                                   incoming_features=256,\n",
    "                                   global_features=num_actions,\n",
    "                                   aggregation='avg')\n",
    "        self.node_relu1 = tg.NodeReLU()\n",
    "\n",
    "        self.global1 = tg.GlobalLinear(int(num_actions / 2),\n",
    "                                       node_features=256,\n",
    "                                       edge_features=256,\n",
    "                                       global_features=num_actions,\n",
    "                                       aggregation='avg')\n",
    "        self.global_relu = tg.GlobalReLU()\n",
    "\n",
    "        self.edge2 = tg.EdgeLinear(128,\n",
    "                                   edge_features=256,\n",
    "                                   sender_features=256,\n",
    "                                   receiver_features=256,\n",
    "                                   global_features=int(num_actions / 2))\n",
    "        self.edge_relu2 = tg.EdgeReLU()\n",
    "\n",
    "        self.node2 = tg.NodeLinear(128,\n",
    "                                   node_features=256,\n",
    "                                   incoming_features=128,\n",
    "                                   global_features=int(num_actions / 2),\n",
    "                                   aggregation='avg')\n",
    "        self.node_relu2 = tg.NodeReLU()\n",
    "\n",
    "        self.global_output = tg.GlobalLinear(1,\n",
    "                                             node_features=128,\n",
    "                                             edge_features=128,\n",
    "                                             global_features=int(num_actions / 2),\n",
    "                                             aggregation='avg')\n",
    "\n",
    "    def forward(self, g):\n",
    "        print(g)\n",
    "        g = self.edge_relu1(self.edge1(g))\n",
    "        print(g)\n",
    "        g = self.node_relu1(self.node1(g))\n",
    "        print(g)\n",
    "        g = self.global_relu(self.global1(g))\n",
    "        print(g)\n",
    "        g = self.edge_relu2(self.edge2(g))\n",
    "        print(g)\n",
    "        g = self.node_relu2(self.node2(g))\n",
    "        print(g)\n",
    "        return self.global_output(g)"
   ]
  },
  {
   "cell_type": "code",
   "execution_count": 80,
   "metadata": {},
   "outputs": [],
   "source": [
    "q = QNetwork(g1.node_features_shape[0], g1.edge_features_shape[0], 10)"
   ]
  },
  {
   "cell_type": "code",
   "execution_count": 83,
   "metadata": {},
   "outputs": [
    {
     "name": "stdout",
     "output_type": "stream",
     "text": [
      "GraphBatch(#1, n=tensor([28]), e=tensor([27]), n_shape=torch.Size([14]), e_shape=torch.Size([10]), g_shape=torch.Size([10]))\n",
      "GraphBatch(#1, n=tensor([28]), e=tensor([27]), n_shape=torch.Size([14]), e_shape=torch.Size([256]), g_shape=torch.Size([10]))\n",
      "GraphBatch(#1, n=tensor([28]), e=tensor([27]), n_shape=torch.Size([256]), e_shape=torch.Size([256]), g_shape=torch.Size([10]))\n",
      "GraphBatch(#1, n=tensor([28]), e=tensor([27]), n_shape=torch.Size([256]), e_shape=torch.Size([256]), g_shape=torch.Size([5]))\n",
      "GraphBatch(#1, n=tensor([28]), e=tensor([27]), n_shape=torch.Size([256]), e_shape=torch.Size([128]), g_shape=torch.Size([5]))\n",
      "GraphBatch(#1, n=tensor([28]), e=tensor([27]), n_shape=torch.Size([128]), e_shape=torch.Size([128]), g_shape=torch.Size([5]))\n"
     ]
    },
    {
     "data": {
      "text/plain": [
       "tensor([[1.7000]], grad_fn=<AddBackward0>)"
      ]
     },
     "execution_count": 83,
     "metadata": {},
     "output_type": "execute_result"
    }
   ],
   "source": [
    "# q(tg.GraphBatch.collate((g1, g2)))\n",
    "q(g1).global_features"
   ]
  },
  {
   "cell_type": "code",
   "execution_count": 26,
   "metadata": {},
   "outputs": [],
   "source": [
    "rb = ReplayMemory(30, 0)\n",
    "\n",
    "for _ in range(20):\n",
    "    g = tg.Graph(\n",
    "        node_features=torch.tensor(env.robot_graph.node_features),\n",
    "        edge_features=torch.tensor(env.robot_graph.edge_features),\n",
    "        senders=torch.tensor(env.robot_graph.edges_from),\n",
    "        receivers=torch.tensor(env.robot_graph.edges_to),\n",
    "    )\n",
    "    rb.push(g, 1, 2, g, False)"
   ]
  },
  {
   "cell_type": "code",
   "execution_count": 6,
   "metadata": {},
   "outputs": [
    {
     "data": {
      "text/plain": [
       "torch.Size([256, 7])"
      ]
     },
     "execution_count": 6,
     "metadata": {},
     "output_type": "execute_result"
    }
   ],
   "source": [
    "\n",
    "torch.cat((torch.rand([256, 6]), torch.rand([256, 1])), 1).shape"
   ]
  },
  {
   "cell_type": "code",
   "execution_count": 1,
   "metadata": {},
   "outputs": [],
   "source": [
    "a = {'a': 1, 'b': 2, 'c': 3}"
   ]
  },
  {
   "cell_type": "code",
   "execution_count": 6,
   "metadata": {},
   "outputs": [
    {
     "data": {
      "text/plain": [
       "array([0.5, 1. , 1.5])"
      ]
     },
     "execution_count": 6,
     "metadata": {},
     "output_type": "execute_result"
    }
   ],
   "source": [
    "import numpy as np\n",
    "np.array(list(a.values())) / 2"
   ]
  },
  {
   "cell_type": "code",
   "execution_count": null,
   "metadata": {},
   "outputs": [],
   "source": []
  }
 ],
 "metadata": {
  "kernelspec": {
   "display_name": "Python 3 (ipykernel)",
   "language": "python",
   "name": "python3"
  },
  "language_info": {
   "codemirror_mode": {
    "name": "ipython",
    "version": 3
   },
   "file_extension": ".py",
   "mimetype": "text/x-python",
   "name": "python",
   "nbconvert_exporter": "python",
   "pygments_lexer": "ipython3",
   "version": "3.8.10"
  }
 },
 "nbformat": 4,
 "nbformat_minor": 1
}
