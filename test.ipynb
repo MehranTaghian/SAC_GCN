{
 "cells": [
  {
   "cell_type": "code",
   "execution_count": 1,
   "metadata": {},
   "outputs": [],
   "source": [
    "import gym\n",
    "import CustomGymEnvs\n",
    "import torchgraphs as tg\n",
    "import torch\n",
    "import torch.nn as nn\n",
    "\n",
    "from collections import OrderedDict"
   ]
  },
  {
   "cell_type": "code",
   "execution_count": 2,
   "metadata": {},
   "outputs": [],
   "source": [
    "env = gym.make(\"FetchReachEnv-v0\")"
   ]
  },
  {
   "cell_type": "code",
   "execution_count": 3,
   "metadata": {},
   "outputs": [],
   "source": [
    "num_nodes = env.observation_space['observation_nodes'].shape[0]\n",
    "num_edges = env.observation_space['observation_edges'].shape[0]"
   ]
  },
  {
   "cell_type": "code",
   "execution_count": 85,
   "metadata": {},
   "outputs": [],
   "source": [
    "# g1 = tg.GraphBatch(\n",
    "#     node_features=torch.FloatTensor(env.robot_graph.node_features),\n",
    "#     edge_features=torch.FloatTensor(env.robot_graph.edge_features),\n",
    "#     senders=torch.tensor(env.robot_graph.edges_from),\n",
    "#     receivers=torch.tensor(env.robot_graph.edges_to),\n",
    "#     global_features=torch.randn([1, 10]),\n",
    "#     num_nodes_by_graph=torch.tensor([num_nodes]),\n",
    "#     num_edges_by_graph=torch.tensor([num_edges])\n",
    "# )\n",
    "\n",
    "g1 = tg.Graph(\n",
    "    node_features=torch.FloatTensor(env.robot_graph.node_features),\n",
    "    edge_features=torch.FloatTensor(env.robot_graph.edge_features),\n",
    "    senders=torch.tensor(env.robot_graph.edges_from),\n",
    "    receivers=torch.tensor(env.robot_graph.edges_to),\n",
    "    global_features=torch.randn([1, 10])\n",
    ")"
   ]
  },
  {
   "cell_type": "code",
   "execution_count": 86,
   "metadata": {},
   "outputs": [],
   "source": [
    "# g2 = tg.GraphBatch(\n",
    "#     node_features=torch.FloatTensor(env.robot_graph.node_features),\n",
    "#     edge_features=torch.FloatTensor(env.robot_graph.edge_features),\n",
    "#     senders=torch.tensor(env.robot_graph.edges_from),\n",
    "#     receivers=torch.tensor(env.robot_graph.edges_to),\n",
    "#     global_features=torch.randn([1, 10]),\n",
    "#     num_nodes_by_graph=torch.tensor([num_nodes]),\n",
    "#     num_edges_by_graph=torch.tensor([num_edges])\n",
    "# )\n",
    "\n",
    "g2 = tg.Graph(\n",
    "    node_features=torch.FloatTensor(env.robot_graph.node_features),\n",
    "    edge_features=torch.FloatTensor(env.robot_graph.edge_features),\n",
    "    senders=torch.tensor(env.robot_graph.edges_from),\n",
    "    receivers=torch.tensor(env.robot_graph.edges_to),\n",
    "    global_features=torch.randn([1, 10]),\n",
    ")"
   ]
  },
  {
   "cell_type": "code",
   "execution_count": 6,
   "metadata": {},
   "outputs": [],
   "source": [
    "dataloader = torch.utils.data.DataLoader([g1, g2], collate_fn=tg.GraphBatch.collate)"
   ]
  },
  {
   "cell_type": "code",
   "execution_count": 94,
   "metadata": {},
   "outputs": [],
   "source": [
    "a = tg.GraphBatch.collate([g1, g2])"
   ]
  },
  {
   "cell_type": "code",
   "execution_count": 99,
   "metadata": {},
   "outputs": [],
   "source": [
    "a.global_features = torch.randn([2, 10])"
   ]
  },
  {
   "cell_type": "code",
   "execution_count": 101,
   "metadata": {},
   "outputs": [
    {
     "data": {
      "text/plain": [
       "torch.Size([2, 10])"
      ]
     },
     "execution_count": 101,
     "metadata": {},
     "output_type": "execute_result"
    }
   ],
   "source": [
    "a.global_features.shape"
   ]
  },
  {
   "cell_type": "code",
   "execution_count": 79,
   "metadata": {},
   "outputs": [],
   "source": [
    "class QNetwork(nn.Module):\n",
    "    def __init__(self, num_node_features, num_edge_features, num_actions):\n",
    "        # For the action value function, we consider the action as the graph's global features\n",
    "        super(QNetwork, self).__init__()\n",
    "        \n",
    "        self.edge1 = tg.EdgeLinear(256,\n",
    "                                   edge_features=num_edge_features,\n",
    "                                   sender_features=num_node_features,\n",
    "                                   receiver_features=num_node_features,\n",
    "                                   global_features=num_actions)\n",
    "        self.edge_relu1 = tg.EdgeReLU()\n",
    "\n",
    "        self.node1 = tg.NodeLinear(256,\n",
    "                                   node_features=num_node_features,\n",
    "                                   incoming_features=256,\n",
    "                                   global_features=num_actions,\n",
    "                                   aggregation='avg')\n",
    "        self.node_relu1 = tg.NodeReLU()\n",
    "\n",
    "        self.global1 = tg.GlobalLinear(int(num_actions / 2),\n",
    "                                       node_features=256,\n",
    "                                       edge_features=256,\n",
    "                                       global_features=num_actions,\n",
    "                                       aggregation='avg')\n",
    "        self.global_relu = tg.GlobalReLU()\n",
    "\n",
    "        self.edge2 = tg.EdgeLinear(128,\n",
    "                                   edge_features=256,\n",
    "                                   sender_features=256,\n",
    "                                   receiver_features=256,\n",
    "                                   global_features=int(num_actions / 2))\n",
    "        self.edge_relu2 = tg.EdgeReLU()\n",
    "\n",
    "        self.node2 = tg.NodeLinear(128,\n",
    "                                   node_features=256,\n",
    "                                   incoming_features=128,\n",
    "                                   global_features=int(num_actions / 2),\n",
    "                                   aggregation='avg')\n",
    "        self.node_relu2 = tg.NodeReLU()\n",
    "\n",
    "        self.global_output = tg.GlobalLinear(1,\n",
    "                                             node_features=128,\n",
    "                                             edge_features=128,\n",
    "                                             global_features=int(num_actions / 2),\n",
    "                                             aggregation='avg')\n",
    "\n",
    "    def forward(self, g):\n",
    "        print(g)\n",
    "        g = self.edge_relu1(self.edge1(g))\n",
    "        print(g)\n",
    "        g = self.node_relu1(self.node1(g))\n",
    "        print(g)\n",
    "        g = self.global_relu(self.global1(g))\n",
    "        print(g)\n",
    "        g = self.edge_relu2(self.edge2(g))\n",
    "        print(g)\n",
    "        g = self.node_relu2(self.node2(g))\n",
    "        print(g)\n",
    "        return self.global_output(g)"
   ]
  },
  {
   "cell_type": "code",
   "execution_count": 80,
   "metadata": {},
   "outputs": [],
   "source": [
    "q = QNetwork(g1.node_features_shape[0], g1.edge_features_shape[0], 10)"
   ]
  },
  {
   "cell_type": "code",
   "execution_count": 83,
   "metadata": {},
   "outputs": [
    {
     "name": "stdout",
     "output_type": "stream",
     "text": [
      "GraphBatch(#1, n=tensor([28]), e=tensor([27]), n_shape=torch.Size([14]), e_shape=torch.Size([10]), g_shape=torch.Size([10]))\n",
      "GraphBatch(#1, n=tensor([28]), e=tensor([27]), n_shape=torch.Size([14]), e_shape=torch.Size([256]), g_shape=torch.Size([10]))\n",
      "GraphBatch(#1, n=tensor([28]), e=tensor([27]), n_shape=torch.Size([256]), e_shape=torch.Size([256]), g_shape=torch.Size([10]))\n",
      "GraphBatch(#1, n=tensor([28]), e=tensor([27]), n_shape=torch.Size([256]), e_shape=torch.Size([256]), g_shape=torch.Size([5]))\n",
      "GraphBatch(#1, n=tensor([28]), e=tensor([27]), n_shape=torch.Size([256]), e_shape=torch.Size([128]), g_shape=torch.Size([5]))\n",
      "GraphBatch(#1, n=tensor([28]), e=tensor([27]), n_shape=torch.Size([128]), e_shape=torch.Size([128]), g_shape=torch.Size([5]))\n"
     ]
    },
    {
     "data": {
      "text/plain": [
       "tensor([[1.7000]], grad_fn=<AddBackward0>)"
      ]
     },
     "execution_count": 83,
     "metadata": {},
     "output_type": "execute_result"
    }
   ],
   "source": [
    "# q(tg.GraphBatch.collate((g1, g2)))\n",
    "q(g1).global_features"
   ]
  },
  {
   "cell_type": "code",
   "execution_count": 26,
   "metadata": {},
   "outputs": [],
   "source": [
    "rb = ReplayMemory(30, 0)\n",
    "\n",
    "for _ in range(20):\n",
    "    g = tg.Graph(\n",
    "        node_features=torch.tensor(env.robot_graph.node_features),\n",
    "        edge_features=torch.tensor(env.robot_graph.edge_features),\n",
    "        senders=torch.tensor(env.robot_graph.edges_from),\n",
    "        receivers=torch.tensor(env.robot_graph.edges_to),\n",
    "    )\n",
    "    rb.push(g, 1, 2, g, False)"
   ]
  },
  {
   "cell_type": "code",
   "execution_count": 6,
   "metadata": {},
   "outputs": [
    {
     "data": {
      "text/plain": [
       "torch.Size([256, 7])"
      ]
     },
     "execution_count": 6,
     "metadata": {},
     "output_type": "execute_result"
    }
   ],
   "source": [
    "torch.cat((torch.rand([256, 6]), torch.rand([256, 1])), 1).shape"
   ]
  },
  {
   "cell_type": "code",
   "execution_count": 1,
   "metadata": {},
   "outputs": [],
   "source": [
    "a = {'a': 1, 'b': 2, 'c': 3}"
   ]
  },
  {
   "cell_type": "code",
   "execution_count": 6,
   "metadata": {},
   "outputs": [
    {
     "data": {
      "text/plain": [
       "array([0.5, 1. , 1.5])"
      ]
     },
     "execution_count": 6,
     "metadata": {},
     "output_type": "execute_result"
    }
   ],
   "source": [
    "import numpy as np\n",
    "np.array(list(a.values())) / 2"
   ]
  },
  {
   "cell_type": "code",
   "execution_count": 1,
   "metadata": {},
   "outputs": [],
   "source": [
    "import numpy as np"
   ]
  },
  {
   "cell_type": "code",
   "execution_count": 17,
   "metadata": {},
   "outputs": [],
   "source": [
    "arr = np.empty([0, 5])"
   ]
  },
  {
   "cell_type": "code",
   "execution_count": 20,
   "metadata": {},
   "outputs": [],
   "source": [
    "arr2 = np.append(arr, [[0,1,2,3,4]], axis=0)"
   ]
  },
  {
   "cell_type": "code",
   "execution_count": 22,
   "metadata": {},
   "outputs": [
    {
     "data": {
      "text/plain": [
       "array([[0., 1., 2., 3., 4.],\n",
       "       [5., 6., 7., 8., 9.]])"
      ]
     },
     "execution_count": 22,
     "metadata": {},
     "output_type": "execute_result"
    }
   ],
   "source": [
    "np.append(arr2, np.arange(5, 10).reshape(1, 5), axis=0)"
   ]
  },
  {
   "cell_type": "code",
   "execution_count": 31,
   "metadata": {},
   "outputs": [
    {
     "data": {
      "text/html": [
       "<div>\n",
       "<style scoped>\n",
       "    .dataframe tbody tr th:only-of-type {\n",
       "        vertical-align: middle;\n",
       "    }\n",
       "\n",
       "    .dataframe tbody tr th {\n",
       "        vertical-align: top;\n",
       "    }\n",
       "\n",
       "    .dataframe thead th {\n",
       "        text-align: right;\n",
       "    }\n",
       "</style>\n",
       "<table border=\"1\" class=\"dataframe\">\n",
       "  <thead>\n",
       "    <tr style=\"text-align: right;\">\n",
       "      <th></th>\n",
       "      <th>num_episodes</th>\n",
       "      <th>num_steps</th>\n",
       "      <th>num_updates</th>\n",
       "      <th>eval_reward</th>\n",
       "    </tr>\n",
       "  </thead>\n",
       "  <tbody>\n",
       "    <tr>\n",
       "      <th>0</th>\n",
       "      <td>10.0</td>\n",
       "      <td>500.0</td>\n",
       "      <td>243.0</td>\n",
       "      <td>-10.249750</td>\n",
       "    </tr>\n",
       "    <tr>\n",
       "      <th>1</th>\n",
       "      <td>20.0</td>\n",
       "      <td>1000.0</td>\n",
       "      <td>743.0</td>\n",
       "      <td>-6.389949</td>\n",
       "    </tr>\n",
       "    <tr>\n",
       "      <th>2</th>\n",
       "      <td>30.0</td>\n",
       "      <td>1500.0</td>\n",
       "      <td>1243.0</td>\n",
       "      <td>-8.711387</td>\n",
       "    </tr>\n",
       "    <tr>\n",
       "      <th>3</th>\n",
       "      <td>40.0</td>\n",
       "      <td>2000.0</td>\n",
       "      <td>1743.0</td>\n",
       "      <td>-6.880497</td>\n",
       "    </tr>\n",
       "    <tr>\n",
       "      <th>4</th>\n",
       "      <td>50.0</td>\n",
       "      <td>2500.0</td>\n",
       "      <td>2243.0</td>\n",
       "      <td>-7.790122</td>\n",
       "    </tr>\n",
       "    <tr>\n",
       "      <th>5</th>\n",
       "      <td>60.0</td>\n",
       "      <td>3000.0</td>\n",
       "      <td>2743.0</td>\n",
       "      <td>-7.270830</td>\n",
       "    </tr>\n",
       "    <tr>\n",
       "      <th>6</th>\n",
       "      <td>70.0</td>\n",
       "      <td>3500.0</td>\n",
       "      <td>3243.0</td>\n",
       "      <td>-6.690151</td>\n",
       "    </tr>\n",
       "    <tr>\n",
       "      <th>7</th>\n",
       "      <td>80.0</td>\n",
       "      <td>4000.0</td>\n",
       "      <td>3743.0</td>\n",
       "      <td>-7.699853</td>\n",
       "    </tr>\n",
       "  </tbody>\n",
       "</table>\n",
       "</div>"
      ],
      "text/plain": [
       "   num_episodes  num_steps  num_updates  eval_reward\n",
       "0          10.0      500.0        243.0   -10.249750\n",
       "1          20.0     1000.0        743.0    -6.389949\n",
       "2          30.0     1500.0       1243.0    -8.711387\n",
       "3          40.0     2000.0       1743.0    -6.880497\n",
       "4          50.0     2500.0       2243.0    -7.790122\n",
       "5          60.0     3000.0       2743.0    -7.270830\n",
       "6          70.0     3500.0       3243.0    -6.690151\n",
       "7          80.0     4000.0       3743.0    -7.699853"
      ]
     },
     "execution_count": 31,
     "metadata": {},
     "output_type": "execute_result"
    }
   ],
   "source": [
    "import pandas as pd\n",
    "\n",
    "pd.read_csv('/home/mehran/Documents/SAC_GCN/Data/FetchReachEnv-v0/standard/seed0/eval.csv')"
   ]
  },
  {
   "cell_type": "code",
   "execution_count": 2,
   "metadata": {},
   "outputs": [],
   "source": [
    "d = [1,2,3,4]\n",
    "d += [4,5,6,7]"
   ]
  },
  {
   "cell_type": "code",
   "execution_count": 1,
   "metadata": {},
   "outputs": [],
   "source": [
    "import torch"
   ]
  },
  {
   "cell_type": "code",
   "execution_count": 3,
   "metadata": {},
   "outputs": [],
   "source": [
    "model = torch.load('Data/HalfCheetahEnv-v0/standard/seed0/model')"
   ]
  },
  {
   "cell_type": "code",
   "execution_count": 8,
   "metadata": {},
   "outputs": [
    {
     "data": {
      "text/plain": [
       "torch.Size([6, 128])"
      ]
     },
     "execution_count": 8,
     "metadata": {},
     "output_type": "execute_result"
    }
   ],
   "source": [
    "model['policy_state_dict']['mean_linear.W_global'].shape"
   ]
  },
  {
   "cell_type": "code",
   "execution_count": 1,
   "metadata": {},
   "outputs": [],
   "source": [
    "import numpy as np"
   ]
  },
  {
   "cell_type": "code",
   "execution_count": 10,
   "metadata": {},
   "outputs": [
    {
     "data": {
      "text/plain": [
       "array([  1.,   2.,   3.,   4.,   5.,   6.,   7.,   8.,   9.,  10.,  11.,\n",
       "        12.,  13.,  14.,  15.,  16.,  17.,  18.,  19.,  20.,  21.,  22.,\n",
       "        23.,  24.,  25.,  26.,  27.,  28.,  29.,  30.,  31.,  32.,  33.,\n",
       "        34.,  35.,  36.,  37.,  38.,  39.,  40.,  41.,  42.,  43.,  44.,\n",
       "        45.,  46.,  47.,  48.,  49.,  50.,  51.,  52.,  53.,  54.,  55.,\n",
       "        56.,  57.,  58.,  59.,  60.,  61.,  62.,  63.,  64.,  65.,  66.,\n",
       "        67.,  68.,  69.,  70.,  71.,  72.,  73.,  74.,  75.,  76.,  77.,\n",
       "        78.,  79.,  80.,  81.,  82.,  83.,  84.,  85.,  86.,  87.,  88.,\n",
       "        89.,  90.,  91.,  92.,  93.,  94.,  95.,  96.,  97.,  98.,  99.,\n",
       "       100.])"
      ]
     },
     "execution_count": 10,
     "metadata": {},
     "output_type": "execute_result"
    }
   ],
   "source": [
    "np.linspace(1, 100, 100)"
   ]
  },
  {
   "cell_type": "code",
   "execution_count": 5,
   "metadata": {},
   "outputs": [],
   "source": [
    "a = np.array([1,2,3])\n",
    "b = np.arange(5)"
   ]
  },
  {
   "cell_type": "code",
   "execution_count": 16,
   "metadata": {},
   "outputs": [
    {
     "data": {
      "text/plain": [
       "array([1, 2, 3, 0, 1, 2, 3, 4])"
      ]
     },
     "execution_count": 16,
     "metadata": {},
     "output_type": "execute_result"
    }
   ],
   "source": [
    "np.concatenate([a, b])"
   ]
  },
  {
   "cell_type": "code",
   "execution_count": 21,
   "metadata": {},
   "outputs": [
    {
     "ename": "NameError",
     "evalue": "name '__file__' is not defined",
     "output_type": "error",
     "traceback": [
      "\u001b[0;31m---------------------------------------------------------------------------\u001b[0m",
      "\u001b[0;31mNameError\u001b[0m                                 Traceback (most recent call last)",
      "\u001b[0;32m/tmp/ipykernel_20608/3353460605.py\u001b[0m in \u001b[0;36m<module>\u001b[0;34m\u001b[0m\n\u001b[1;32m      1\u001b[0m \u001b[0;32mimport\u001b[0m \u001b[0mos\u001b[0m\u001b[0;34m\u001b[0m\u001b[0;34m\u001b[0m\u001b[0m\n\u001b[1;32m      2\u001b[0m \u001b[0;32mfrom\u001b[0m \u001b[0mpathlib\u001b[0m \u001b[0;32mimport\u001b[0m \u001b[0mPath\u001b[0m\u001b[0;34m\u001b[0m\u001b[0;34m\u001b[0m\u001b[0m\n\u001b[0;32m----> 3\u001b[0;31m \u001b[0mos\u001b[0m\u001b[0;34m.\u001b[0m\u001b[0mpath\u001b[0m\u001b[0;34m.\u001b[0m\u001b[0mabspath\u001b[0m\u001b[0;34m(\u001b[0m\u001b[0m__file__\u001b[0m\u001b[0;34m)\u001b[0m\u001b[0;34m\u001b[0m\u001b[0;34m\u001b[0m\u001b[0m\n\u001b[0m",
      "\u001b[0;31mNameError\u001b[0m: name '__file__' is not defined"
     ]
    }
   ],
   "source": [
    "import os\n",
    "from pathlib import Path\n",
    "os.path.abspath(__file__)"
   ]
  },
  {
   "cell_type": "code",
   "execution_count": 3,
   "metadata": {},
   "outputs": [],
   "source": [
    "import numpy as np"
   ]
  },
  {
   "cell_type": "code",
   "execution_count": 4,
   "metadata": {},
   "outputs": [
    {
     "data": {
      "text/plain": [
       "array([0., 0., 0., 0., 0., 0., 0., 0., 0., 0., 0., 0., 0.])"
      ]
     },
     "execution_count": 4,
     "metadata": {},
     "output_type": "execute_result"
    }
   ],
   "source": [
    "np.zeros([13])"
   ]
  },
  {
   "cell_type": "code",
   "execution_count": 1,
   "metadata": {},
   "outputs": [],
   "source": [
    "a = {'b':2, 'a':1, 'c':0}"
   ]
  },
  {
   "cell_type": "code",
   "execution_count": 6,
   "metadata": {},
   "outputs": [
    {
     "data": {
      "text/plain": [
       "True"
      ]
     },
     "execution_count": 6,
     "metadata": {},
     "output_type": "execute_result"
    }
   ],
   "source": [
    "isinstance([1,2,3,4], list)"
   ]
  },
  {
   "cell_type": "code",
   "execution_count": 8,
   "metadata": {},
   "outputs": [],
   "source": [
    "a['d'] = None"
   ]
  },
  {
   "cell_type": "code",
   "execution_count": 10,
   "metadata": {},
   "outputs": [],
   "source": [
    "a['d']"
   ]
  },
  {
   "cell_type": "code",
   "execution_count": null,
   "metadata": {},
   "outputs": [],
   "source": []
  }
 ],
 "metadata": {
  "kernelspec": {
   "display_name": "Python 3 (ipykernel)",
   "language": "python",
   "name": "python3"
  },
  "language_info": {
   "codemirror_mode": {
    "name": "ipython",
    "version": 3
   },
   "file_extension": ".py",
   "mimetype": "text/x-python",
   "name": "python",
   "nbconvert_exporter": "python",
   "pygments_lexer": "ipython3",
   "version": "3.8.10"
  }
 },
 "nbformat": 4,
 "nbformat_minor": 1
}
