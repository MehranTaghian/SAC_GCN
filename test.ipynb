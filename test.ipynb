{
 "cells": [
  {
   "cell_type": "code",
   "execution_count": 6,
   "metadata": {},
   "outputs": [],
   "source": [
    "import numpy as np\n",
    "from utils import load_object\n",
    "import pandas as pd"
   ]
  },
  {
   "cell_type": "code",
   "execution_count": 35,
   "metadata": {},
   "outputs": [
    {
     "name": "stdout",
     "output_type": "stream",
     "text": [
      "1.8692679519845712\n",
      "1.5114441653110449\n",
      "1.377039369915404\n",
      "1.307300823677195\n",
      "1.3652418571403082\n",
      "1.310074907277479\n",
      "1.303264835220775\n",
      "1.261622305465282\n"
     ]
    }
   ],
   "source": [
    "num_seeds = 10\n",
    "rewards = np.zeros([num_seeds, 1999])\n",
    "for s in range(num_seeds):\n",
    "    if s == 5 or s == 1:\n",
    "        continue\n",
    "    eval = pd.read_csv(f'Data/FetchReachDense-v1/standard/seed{s}/eval.csv')\n",
    "    rewards[s, :] = eval['eval_reward'][:1999]\n",
    "    print(np.std(rewards[:s+1]))"
   ]
  },
  {
   "cell_type": "code",
   "execution_count": 32,
   "metadata": {},
   "outputs": [
    {
     "data": {
      "text/plain": [
       "4.998494462984164"
      ]
     },
     "execution_count": 32,
     "metadata": {},
     "output_type": "execute_result"
    }
   ],
   "source": [
    "np.std(rewards)"
   ]
  },
  {
   "cell_type": "code",
   "execution_count": null,
   "metadata": {},
   "outputs": [],
   "source": []
  }
 ],
 "metadata": {
  "kernelspec": {
   "display_name": "Python 3.8.10 ('env')",
   "language": "python",
   "name": "python3"
  },
  "language_info": {
   "codemirror_mode": {
    "name": "ipython",
    "version": 3
   },
   "file_extension": ".py",
   "mimetype": "text/x-python",
   "name": "python",
   "nbconvert_exporter": "python",
   "pygments_lexer": "ipython3",
   "version": "3.8.10"
  },
  "vscode": {
   "interpreter": {
    "hash": "6f62bf623bb5a9985b1eaba9f7f51a67e773be352225d1427ea197559c77f164"
   }
  }
 },
 "nbformat": 4,
 "nbformat_minor": 1
}
