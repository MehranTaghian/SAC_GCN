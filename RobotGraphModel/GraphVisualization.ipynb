{
 "cells": [
  {
   "cell_type": "code",
   "execution_count": 1,
   "metadata": {},
   "outputs": [],
   "source": [
    "import os\n",
    "os.chdir('..')"
   ]
  },
  {
   "cell_type": "code",
   "execution_count": 2,
   "metadata": {},
   "outputs": [],
   "source": [
    "import networkx as nx\n",
    "from RobotGraphModel import RobotGraph\n",
    "import gym\n",
    "import numpy as np\n",
    "from pathlib import Path\n",
    "import matplotlib.pyplot as plt\n",
    "from pygraphviz import *\n",
    "\n",
    "home = str(Path.home())"
   ]
  },
  {
   "cell_type": "code",
   "execution_count": 3,
   "metadata": {},
   "outputs": [],
   "source": [
    "# env_name = 'FetchReachEnvGraph-v0'\n",
    "# model_path = home + '/Documents/SAC_GCN/CustomGymEnvs/envs/fetchreach/CustomFetchReach/assets/fetch/robot.xml'\n",
    "# fig_size=(30, 10)\n",
    "# edge_label_proc = lambda j: ' '.join(j.attrib['name'].split(':')[1].split('_'))\n",
    "\n",
    "# env_name = 'AntEnvGraph-v0'\n",
    "# model_path = home + '/Documents/SAC_GCN/CustomGymEnvs/envs/ant/xml/AntEnv_v0_Normal.xml'\n",
    "# fig_size = (15, 7)\n",
    "# edge_label_proc = lambda j: ' '.join(j.attrib['name'].split('_'))\n",
    "\n",
    "env_name = 'HalfCheetahEnvGraph-v0'\n",
    "model_path = home + '/Documents/SAC_GCN/CustomGymEnvs/envs/halfcheetah/HalfCheetahEnv-v0/half_cheetah.xml'\n",
    "fig_size = (15, 7)\n",
    "edge_label_proc = lambda j: ' '.join(j.attrib['name'].split('_'))\n",
    "\n",
    "# env_name = 'Walker2dEnvGraph-v0'\n",
    "# model_path = home + '/Documents/SAC_GCN/CustomGymEnvs/envs/halfcheetah/HalfCheetahEnv-v0/half_cheetah.xml'\n",
    "# fig_size = (15, 7)\n",
    "# edge_label_proc = lambda j: ' '.join(j.attrib['name'].split('_'))\n"
   ]
  },
  {
   "cell_type": "code",
   "execution_count": 4,
   "metadata": {},
   "outputs": [
    {
     "name": "stdout",
     "output_type": "stream",
     "text": [
      "0 world\n",
      "1 fthigh\n",
      "2 bfoot\n",
      "3 bshin\n",
      "4 ffoot\n",
      "5 torso\n",
      "6 bthigh\n",
      "7 fshin\n",
      "\n",
      "(5, 0) ['rootx', 'rootz', 'rooty']\n",
      "(6, 5) ['bthigh']\n",
      "(3, 6) ['bshin']\n",
      "(2, 3) ['bfoot']\n",
      "(1, 5) ['fthigh']\n",
      "(7, 1) ['fshin']\n",
      "(4, 7) ['ffoot']\n"
     ]
    }
   ],
   "source": [
    "env = gym.make(env_name)\n",
    "rg = env.robot_graph \n",
    "\n",
    "for i in range(len(rg.node_list)):\n",
    "    print(i, rg.node_list[i].attrib['name'])\n",
    "\n",
    "print()\n",
    "for edge, joint in rg.edge_list.items():\n",
    "    if len(joint) > 0:\n",
    "        print(edge, [j.attrib['name'] for j in joint])\n",
    "    else:\n",
    "        print(edge,  joint.attrib['name'])\n",
    "    \n",
    "nodelist = [i for i in range(len(rg.node_list))]\n",
    "edgelist = [(f, t) for f, t in zip(rg.edges_from, rg.edges_to)]\n",
    "g = nx.Graph()\n",
    "g.add_nodes_from(nodelist)\n",
    "\n",
    "# use PyGraphviz to create the initial graph with lengths\n",
    "g = AGraph()\n",
    "g.add_nodes_from(nodelist)\n",
    "\n",
    "for edge, j in zip(edgelist, rg.edge_list):\n",
    "    if j is not None:\n",
    "        g.add_edge(edge[0], edge[1], length=3)\n",
    "    else:\n",
    "        g.add_edge(edge[0], edge[1], length=1)    \n",
    "        \n",
    "# convert to NetworkX Graph from a PyGraphviz graph\n",
    "g = nx.nx_agraph.from_agraph(g)\n",
    "pos = nx.nx_agraph.graphviz_layout(g)"
   ]
  },
  {
   "cell_type": "code",
   "execution_count": 5,
   "metadata": {},
   "outputs": [
    {
     "name": "stdout",
     "output_type": "stream",
     "text": [
      "[(5, 0), (6, 5), (3, 6), (2, 3), (1, 5), (7, 1), (4, 7)]\n"
     ]
    },
    {
     "ename": "AttributeError",
     "evalue": "'tuple' object has no attribute 'attrib'",
     "output_type": "error",
     "traceback": [
      "\u001b[0;31m---------------------------------------------------------------------------\u001b[0m",
      "\u001b[0;31mAttributeError\u001b[0m                            Traceback (most recent call last)",
      "\u001b[0;32m/tmp/ipykernel_221509/253737174.py\u001b[0m in \u001b[0;36m<module>\u001b[0;34m\u001b[0m\n\u001b[1;32m      4\u001b[0m node_size=500, with_labels=True, labels={node:node for node in g.nodes()})\n\u001b[1;32m      5\u001b[0m nx.draw_networkx_edge_labels(g,pos,\n\u001b[0;32m----> 6\u001b[0;31m                 edge_labels={(f'{edge[0]}', f'{edge[1]}'): edge_label_proc(j)  if j is not None else 'w' \n\u001b[0m\u001b[1;32m      7\u001b[0m                              for edge, j in zip(edgelist, rg.edge_list)},font_color='dodgerblue', font_size=18)\n\u001b[1;32m      8\u001b[0m \u001b[0mplt\u001b[0m\u001b[0;34m.\u001b[0m\u001b[0maxis\u001b[0m\u001b[0;34m(\u001b[0m\u001b[0;34m'off'\u001b[0m\u001b[0;34m)\u001b[0m\u001b[0;34m\u001b[0m\u001b[0;34m\u001b[0m\u001b[0m\n",
      "\u001b[0;32m/tmp/ipykernel_221509/253737174.py\u001b[0m in \u001b[0;36m<dictcomp>\u001b[0;34m(.0)\u001b[0m\n\u001b[1;32m      4\u001b[0m node_size=500, with_labels=True, labels={node:node for node in g.nodes()})\n\u001b[1;32m      5\u001b[0m nx.draw_networkx_edge_labels(g,pos,\n\u001b[0;32m----> 6\u001b[0;31m                 edge_labels={(f'{edge[0]}', f'{edge[1]}'): edge_label_proc(j)  if j is not None else 'w' \n\u001b[0m\u001b[1;32m      7\u001b[0m                              for edge, j in zip(edgelist, rg.edge_list)},font_color='dodgerblue', font_size=18)\n\u001b[1;32m      8\u001b[0m \u001b[0mplt\u001b[0m\u001b[0;34m.\u001b[0m\u001b[0maxis\u001b[0m\u001b[0;34m(\u001b[0m\u001b[0;34m'off'\u001b[0m\u001b[0;34m)\u001b[0m\u001b[0;34m\u001b[0m\u001b[0;34m\u001b[0m\u001b[0m\n",
      "\u001b[0;32m/tmp/ipykernel_221509/2623609206.py\u001b[0m in \u001b[0;36m<lambda>\u001b[0;34m(j)\u001b[0m\n\u001b[1;32m     12\u001b[0m \u001b[0mmodel_path\u001b[0m \u001b[0;34m=\u001b[0m \u001b[0mhome\u001b[0m \u001b[0;34m+\u001b[0m \u001b[0;34m'/Documents/SAC_GCN/CustomGymEnvs/envs/halfcheetah/HalfCheetahEnv-v0/half_cheetah.xml'\u001b[0m\u001b[0;34m\u001b[0m\u001b[0;34m\u001b[0m\u001b[0m\n\u001b[1;32m     13\u001b[0m \u001b[0mfig_size\u001b[0m \u001b[0;34m=\u001b[0m \u001b[0;34m(\u001b[0m\u001b[0;36m15\u001b[0m\u001b[0;34m,\u001b[0m \u001b[0;36m7\u001b[0m\u001b[0;34m)\u001b[0m\u001b[0;34m\u001b[0m\u001b[0;34m\u001b[0m\u001b[0m\n\u001b[0;32m---> 14\u001b[0;31m \u001b[0medge_label_proc\u001b[0m \u001b[0;34m=\u001b[0m \u001b[0;32mlambda\u001b[0m \u001b[0mj\u001b[0m\u001b[0;34m:\u001b[0m \u001b[0;34m' '\u001b[0m\u001b[0;34m.\u001b[0m\u001b[0mjoin\u001b[0m\u001b[0;34m(\u001b[0m\u001b[0mj\u001b[0m\u001b[0;34m.\u001b[0m\u001b[0mattrib\u001b[0m\u001b[0;34m[\u001b[0m\u001b[0;34m'name'\u001b[0m\u001b[0;34m]\u001b[0m\u001b[0;34m.\u001b[0m\u001b[0msplit\u001b[0m\u001b[0;34m(\u001b[0m\u001b[0;34m'_'\u001b[0m\u001b[0;34m)\u001b[0m\u001b[0;34m)\u001b[0m\u001b[0;34m\u001b[0m\u001b[0;34m\u001b[0m\u001b[0m\n\u001b[0m\u001b[1;32m     15\u001b[0m \u001b[0;34m\u001b[0m\u001b[0m\n\u001b[1;32m     16\u001b[0m \u001b[0;31m# env_name = 'Walker2dEnvGraph-v0'\u001b[0m\u001b[0;34m\u001b[0m\u001b[0;34m\u001b[0m\u001b[0;34m\u001b[0m\u001b[0m\n",
      "\u001b[0;31mAttributeError\u001b[0m: 'tuple' object has no attribute 'attrib'"
     ]
    },
    {
     "data": {
      "image/png": "[encoded data removed]",
      "text/plain": [
       "<Figure size 1080x504 with 1 Axes>"
      ]
     },
     "metadata": {},
     "output_type": "display_data"
    }
   ],
   "source": [
    "print(edgelist)\n",
    "plt.figure(figsize=fig_size)\n",
    "nx.draw(g,pos,width=2,linewidths=1,\\\n",
    "node_size=500, with_labels=True, labels={node:node for node in g.nodes()})\n",
    "nx.draw_networkx_edge_labels(g,pos,\n",
    "                edge_labels={(f'{edge[0]}', f'{edge[1]}'): edge_label_proc(j)  if j is not None else 'w' \n",
    "                             for edge, j in zip(edgelist, rg.edge_list)},font_color='dodgerblue', font_size=18)\n",
    "plt.axis('off')\n",
    "plt.savefig(f'{env_name}.jpg', dpi=300)\n",
    "plt.show()"
   ]
  },
  {
   "cell_type": "code",
   "execution_count": null,
   "metadata": {},
   "outputs": [],
   "source": [
    "env = gym.make(env_name)\n",
    "rg = env.robot_graph\n",
    "nodelist = [env.sim.model.body_name2id(n.attrib['name']) for n in rg.node_list]\n",
    "edgelist = [(env.sim.model.body_name2id(rg.node_list[f].attrib['name']), env.sim.model.body_name2id(rg.node_list[t].attrib['name'])) for f, t in zip(rg.edges_from, rg.edges_to)]\n",
    "g = nx.Graph()\n",
    "g.add_nodes_from(nodelist)\n",
    "\n",
    "for edge, j in zip(edgelist, rg.edge_list):\n",
    "    if j is not None:\n",
    "        g.add_edge(edge[0], edge[1], length=5)\n",
    "    else:\n",
    "        g.add_edge(edge[0], edge[1], length=1)    \n",
    "    \n",
    "# g.add_edges_from(edgelist, length=10)\n",
    "pos = nx.spring_layout(g)"
   ]
  },
  {
   "cell_type": "code",
   "execution_count": null,
   "metadata": {},
   "outputs": [],
   "source": [
    "plt.figure(figsize=(10, 15))\n",
    "nx.draw(g,pos,edge_color='black',width=2,linewidths=1,\\\n",
    "node_size=500,node_color='cyan',alpha=0.9,\\\n",
    "labels={node:node for node in g.nodes()})\n",
    "# nx.draw_networkx_edge_labels(g,pos,edge_labels={edge: 'j' if kind is not None else 'w' for edge, kind in zip(edgelist, rg.edge_list)},font_color='red')\n",
    "nx.draw_networkx_edge_labels(g,pos,edge_labels={edge: np.round(rg.edge_features[i, :], 3) for edge, i in zip(edgelist, range(rg.edge_features.shape[0]))},font_color='red')\n",
    "\n",
    "plt.axis('off')\n",
    "plt.savefig(f'{env_name}.jpg', dpi=300)\n",
    "plt.show()"
   ]
  },
  {
   "cell_type": "code",
   "execution_count": null,
   "metadata": {},
   "outputs": [],
   "source": [
    "plt.figure(figsize=(10, 15))\n",
    "nx.draw(g,pos,edge_color='black',width=2,linewidths=1,\\\n",
    "node_size=500,node_color='pink',alpha=0.9,\\\n",
    "labels={node:node for node in g.nodes()})\n",
    "\n",
    "nx.draw_networkx_edge_labels(g,pos,edge_labels={edge: rg.sim.model.joint_name2id(j.attrib['name']) if j is not None else 'w' for edge, j in zip(edgelist, rg.edge_list)},font_color='red')\n",
    "plt.axis('off')\n",
    "plt.show()\n",
    "plt.savefig(f'{env_name}.jpg', dpi=300)"
   ]
  }
 ],
 "metadata": {
  "kernelspec": {
   "display_name": "Python 3 (ipykernel)",
   "language": "python",
   "name": "python3"
  },
  "language_info": {
   "codemirror_mode": {
    "name": "ipython",
    "version": 3
   },
   "file_extension": ".py",
   "mimetype": "text/x-python",
   "name": "python",
   "nbconvert_exporter": "python",
   "pygments_lexer": "ipython3",
   "version": "3.8.10"
  }
 },
 "nbformat": 4,
 "nbformat_minor": 1
}
